{
 "cells": [
  {
   "cell_type": "markdown",
   "id": "55a23e56-9bc1-4de5-8ac5-07e89b8c4164",
   "metadata": {},
   "source": [
    "## 1. Video input"
   ]
  },
  {
   "cell_type": "code",
   "execution_count": 17,
   "id": "11a44845-01e0-4ff1-9435-615dbb745279",
   "metadata": {},
   "outputs": [],
   "source": [
    "import cv2\n",
    "import mediapipe as mp\n",
    "import pyautogui\n",
    "\n",
    "# Initialize MediaPipe Hands\n",
    "mp_hands = mp.solutions.hands\n",
    "hands = mp_hands.Hands(\n",
    "    max_num_hands=1,\n",
    "    min_detection_confidence=0.7,\n",
    "    min_tracking_confidence=0.7\n",
    ")\n",
    "mp_draw = mp.solutions.drawing_utils\n",
    "\n",
    "# Open webcam\n",
    "cap = cv2.VideoCapture(0)\n",
    "\n",
    "# To avoid multiple triggers\n",
    "last_gesture = None\n",
    "\n",
    "while True:\n",
    "    success, frame = cap.read()\n",
    "    if not success:\n",
    "        break\n",
    "\n",
    "    frame = cv2.flip(frame, 1)\n",
    "    h, w, c = frame.shape\n",
    "    rgb_frame = cv2.cvtColor(frame, cv2.COLOR_BGR2RGB)\n",
    "    results = hands.process(rgb_frame)\n",
    "\n",
    "    gesture = \"None\"\n",
    "\n",
    "    if results.multi_hand_landmarks:\n",
    "        for hand_landmarks in results.multi_hand_landmarks:\n",
    "            mp_draw.draw_landmarks(frame, hand_landmarks, mp_hands.HAND_CONNECTIONS)\n",
    "\n",
    "            # Wrist position\n",
    "            wrist = hand_landmarks.landmark[0]\n",
    "            wrist_x, wrist_y = int(wrist.x * w), int(wrist.y * h)\n",
    "\n",
    "            # Frame center\n",
    "            center_x, center_y = w // 2, h // 2\n",
    "            offset_x, offset_y = 100, 80  # tolerance\n",
    "\n",
    "            if wrist_x < center_x - offset_x:\n",
    "                gesture = \"LEFT\"\n",
    "            elif wrist_x > center_x + offset_x:\n",
    "                gesture = \"RIGHT\"\n",
    "            elif wrist_y < center_y - offset_y:\n",
    "                gesture = \"UP\"\n",
    "            elif wrist_y > center_y + offset_y:\n",
    "                gesture = \"DOWN\"\n",
    "            else:\n",
    "                gesture = \"CENTER\"\n",
    "\n",
    "            # Draw markers\n",
    "            cv2.circle(frame, (wrist_x, wrist_y), 10, (0, 255, 0), cv2.FILLED)\n",
    "            cv2.circle(frame, (center_x, center_y), 10, (255, 0, 0), cv2.FILLED)\n",
    "\n",
    "            # Show gesture text\n",
    "            cv2.putText(frame, f\"Gesture: {gesture}\", (10, 50),\n",
    "                        cv2.FONT_HERSHEY_SIMPLEX, 1, (0, 255, 255), 3)\n",
    "\n",
    "            # Map gestures to keyboard keys\n",
    "            if gesture != last_gesture:  # avoid repeats\n",
    "                if gesture == \"LEFT\":\n",
    "                    pyautogui.press(\"left\")\n",
    "                elif gesture == \"RIGHT\":\n",
    "                    pyautogui.press(\"right\")\n",
    "                elif gesture == \"UP\":\n",
    "                    pyautogui.press(\"up\")\n",
    "                elif gesture == \"DOWN\":\n",
    "                    pyautogui.press(\"down\")\n",
    "                last_gesture = gesture\n",
    "\n",
    "    cv2.imshow(\"Hand Gesture Control\", frame)\n",
    "\n",
    "    if cv2.waitKey(1) & 0xFF == ord('q'):\n",
    "        break\n",
    "\n",
    "cap.release()\n",
    "cv2.destroyAllWindows()\n"
   ]
  },
  {
   "cell_type": "markdown",
   "id": "0b60c3dc-7821-4cba-ba60-f42fbc89c15c",
   "metadata": {},
   "source": [
    "## Gesture recognition"
   ]
  },
  {
   "cell_type": "code",
   "execution_count": 9,
   "id": "50d5c919-5037-4496-a962-560148e37bba",
   "metadata": {},
   "outputs": [],
   "source": []
  },
  {
   "cell_type": "code",
   "execution_count": null,
   "id": "21624c6f-8a66-44dc-8d41-62fb8d3975be",
   "metadata": {},
   "outputs": [],
   "source": []
  }
 ],
 "metadata": {
  "kernelspec": {
   "display_name": "Python (gesture)",
   "language": "python",
   "name": "gesture"
  },
  "language_info": {
   "codemirror_mode": {
    "name": "ipython",
    "version": 3
   },
   "file_extension": ".py",
   "mimetype": "text/x-python",
   "name": "python",
   "nbconvert_exporter": "python",
   "pygments_lexer": "ipython3",
   "version": "3.9.23"
  }
 },
 "nbformat": 4,
 "nbformat_minor": 5
}
